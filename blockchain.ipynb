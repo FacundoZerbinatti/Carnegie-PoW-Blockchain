{
  "cells": [
    {
      "cell_type": "markdown",
      "metadata": {
        "id": "3c8EFe127W0U"
      },
      "source": [
        "<div style=\"width: 100%; clear: both;\">\n",
        "    <div style=\"float: left; width: 20%;\">\n",
        "       <img src=\"https://joanamengualcom.files.wordpress.com/2021/11/blockstellart-2.png?w=100\", align=\"left\">\n",
        "    </div>\n",
        "</div>\n",
        "\n",
        "<div style=\"float: right; width: 50%; padding-right: 80px\">\n",
        "    <p style=\"margin: 0; padding-top: 22px; text-align:right;\">Carnegie PoW blockchain with Python</p>\n",
        "    <p style=\"margin: 0; text-align:right;\"><i>www.carnegie-studio.com</i></p>\n",
        "</div>\n",
        "\n",
        "<div style=\"width: 100%; clear: both;\">\n",
        "<div style=\"width:100%;\">&nbsp;</div>"
      ]
    },
    {
      "cell_type": "markdown",
      "metadata": {
        "id": "oB1MtvWP_qNO"
      },
      "source": [
        "Librerías necesarias para la creación de una Blockchain con Python:\n",
        "\n",
        "* **datetime**: El módulo datetime proporciona clases para manipular fechas y horas. Si bien la implementación permite operaciones aritméticas con fechas y horas, su principal objetivo es poder extraer campos de forma eficiente para su posterior manipulación o formateo.\n",
        "\n",
        "* **hashlib**: Este módulo implementa una interfaz común a diferentes algoritmos de hash y resúmenes de mensajes seguros. Están incluidos los algoritmos de hash FIPS seguros SHA1, SHA224, SHA226, SHA384 y SHA512 (definidos en FIPS 180-2) además del algoritmo MD5 de RSA (definido en Internet RFC 1321). Los términos «hash seguro» y «resumen de mensaje» son intercambiables. Los algoritmos más antiguos fueron denominados resúmenes de mensajes. El término moderno es hash seguro.\n",
        "\n",
        "* **json**: JSON son las siglas de JavaScript Object Notation. JSON es un formato de datos ligero que se utiliza para el intercambio de datos entre varios lenguajes diferentes. Es fácil de leer para los humanos y fácilmente analizado por las máquinas.\n",
        "\n",
        "* **flask**: Flask es un micro framework web escrito en Python. Se clasifica como un microframework porque no requiere herramientas o librerías particulares. No tiene capa de abstracción de base de datos, validación de formularios, o cualquier otro componente donde las librerías de terceros preexistentes proporcionan funciones comunes. Sin embargo, Flask admite extensiones que pueden añadir funciones a la aplicación como si estuvieran implementadas en el propio Flask. Existen extensiones para mapeadores objeto-relacionales, validación de formularios, manejo de cargas, varias tecnologías de autenticación abierta y varias herramientas relacionadas con el marco común.\n",
        "\n",
        "* **flask-ngrok**: Una forma sencilla de hacer demostraciones de aplicaciones Flask desde tu máquina. Hace que sus aplicaciones Flask que se ejecutan en localhost estén disponibles en Internet a través de la excelente herramienta ngrok."
      ]
    },
    {
      "cell_type": "markdown",
      "metadata": {
        "id": "zEMcysBgcfbv"
      },
      "source": [
        "## Instalaciones"
      ]
    },
    {
      "cell_type": "code",
      "execution_count": null,
      "metadata": {
        "id": "VHidChooWq-v"
      },
      "outputs": [],
      "source": [
        "%pip install flask==0.12.2"
      ]
    },
    {
      "cell_type": "code",
      "execution_count": null,
      "metadata": {
        "id": "2mZZNqm6KB7d"
      },
      "outputs": [],
      "source": [
        "%pip install flask-ngrok==0.0.25"
      ]
    },
    {
      "cell_type": "markdown",
      "metadata": {
        "id": "YT9zNS_qcjPy"
      },
      "source": [
        "## Carnegie Blockchain with Python"
      ]
    },
    {
      "cell_type": "code",
      "execution_count": null,
      "metadata": {
        "id": "5SbVk_mX7Bnl"
      },
      "outputs": [],
      "source": [
        "# Importación de las librerías\n",
        "import datetime\n",
        "import hashlib\n",
        "import json\n",
        "from flask       import Flask, jsonify, request\n",
        "from flask_ngrok import run_with_ngrok"
      ]
    },
    {
      "cell_type": "markdown",
      "metadata": {
        "id": "ZkGBQ3P8DMn0"
      },
      "source": [
        "Creación de una clase Blockchain que contenga todos los métodos esenciales, como son los siguientes:     \n",
        "* Creación de un nuevo bloque\n",
        "* Obtención del hash de un bloque\n",
        "* Protocolo de concenso Proof of Work (PoW)\n",
        "* Generación del hash de un bloque\n",
        "* Verificación de la validez de la Blockchain"
      ]
    },
    {
      "cell_type": "code",
      "execution_count": null,
      "metadata": {
        "id": "ZxJK0C5H7HvM"
      },
      "outputs": [],
      "source": [
        "# Creación de la Blockchain\n",
        "class Blockchain:\n",
        "    \n",
        "  def __init__(self):\n",
        "    \"\"\" Constructor de la clase Blockchain. \"\"\"\n",
        "\n",
        "    self.chain = []\n",
        "    self.create_block(proof = 1, previous_hash = '0')\n",
        "      \n",
        "## -------------------------------- CREATE BLOCK ------------------------------- \n",
        "\n",
        "  def create_block(self, proof, previous_hash):\n",
        "    \"\"\" Creación de un nuevo bloque. \n",
        "\n",
        "      Arguments:\n",
        "        - proof: Nounce del bloque actual. (proof != hash)\n",
        "        - previous_hash: Hash del bloque previo.\n",
        "\n",
        "      Returns: \n",
        "        - block: Nuevo bloque creado. \n",
        "      \"\"\"\n",
        "\n",
        "    block = { 'index'         : len(self.chain)+1,\n",
        "              'timestamp'     : str(datetime.datetime.now()),\n",
        "              'proof'         : proof,\n",
        "              'previous_hash' : previous_hash}\n",
        "    self.chain.append(block)\n",
        "    return block\n",
        "\n",
        "## -------------------------------- GET PREVIOUS BLOCK -------------------------\n",
        "\n",
        "  def get_previous_block(self):\n",
        "    \"\"\" Obtención del bloque previo de la Blockchain .\n",
        "    \n",
        "      Returns:\n",
        "        - Obtención del último bloque de la Blockchain. \"\"\"\n",
        "\n",
        "    return self.chain[-1]\n",
        "\n",
        "## -------------------------------- GET BLOCK BY INDEX -------------------------\n",
        "\n",
        "  def get_block_by_index(self, index):\n",
        "    \"\"\" Obtención de un bloque dado un indice.\n",
        "    \n",
        "      Returns:\n",
        "        - Obtención del bloque de la Blockchain cuyo indice es igual al requerido. \"\"\"\n",
        "    \n",
        "    chain = blockchain.chain\n",
        "\n",
        "    print(\"BLOCK: \")\n",
        "    print(list(filter(lambda block: block[\"index\"] == 1, chain)))\n",
        "    return list(filter(lambda block: block[\"index\"] == int(index), chain))\n",
        "\n",
        "## -------------------------------- PROOF OF WORK ------------------------------\n",
        "\n",
        "  def proof_of_work(self, previous_proof):\n",
        "    \"\"\" Protocolo de concenso Proof of Work (PoW).\n",
        "    \n",
        "      Arguments:\n",
        "        - previous_proof: Nounce del bloque previo.\n",
        "\n",
        "      Returns:\n",
        "        - new_proof: Devolución del nuevo nounce obtenido con PoW. \"\"\"\n",
        "\n",
        "    new_proof = 1\n",
        "    check_proof = False\n",
        "    while check_proof is False:\n",
        "        hash_operation = hashlib.sha256(str(new_proof**2 - previous_proof**2).encode()).hexdigest()\n",
        "        if hash_operation[:4] == '0000':\n",
        "            check_proof = True\n",
        "        else: \n",
        "            new_proof += 1\n",
        "    return new_proof\n",
        "  \n",
        "## -------------------------------- HASH ---------------------------------------\n",
        "\n",
        "  def hash(self, block):\n",
        "    \"\"\" Cálculo del hash de un bloque.\n",
        "    \n",
        "    Arguments:\n",
        "        - block: Identifica a un bloque de la Blockchain.\n",
        "    \n",
        "    Returns:\n",
        "        - hash_block: Devuelve el hash del bloque \"\"\"\n",
        "\n",
        "    encoded_block = json.dumps(block, sort_keys = True).encode()\n",
        "    hash_block = hashlib.sha256(encoded_block).hexdigest()\n",
        "    return hash_block\n",
        "  \n",
        "## -------------------------------- IS CHAIN VALID -----------------------------\n",
        "\n",
        "  def is_chain_valid(self, chain):\n",
        "    \"\"\" Determina si la Blockchain es válida. \n",
        "    \n",
        "    Arguments:\n",
        "        - chain: Cadena de bloques que contiene toda la \n",
        "                  información de las transacciones.\n",
        "    \n",
        "    Returns:\n",
        "        - True/False: Devuelve un booleano en función de la validez de la \n",
        "                      Blockchain. (True = Válida, False = Inválida) \"\"\"\n",
        "\n",
        "    previous_block = chain[0]\n",
        "    block_index = 1\n",
        "    while block_index < len(chain):\n",
        "        block = chain[block_index]\n",
        "        if block['previous_hash'] != self.hash(previous_block):\n",
        "            return False\n",
        "        previous_proof = previous_block['proof']\n",
        "        proof = block['proof']\n",
        "        hash_operation = hashlib.sha256(str(proof**2 - previous_proof**2).encode()).hexdigest()\n",
        "        if hash_operation[:4] != '0000':\n",
        "            return False\n",
        "        previous_block = block\n",
        "        block_index += 1\n",
        "    return True"
      ]
    },
    {
      "cell_type": "markdown",
      "metadata": {
        "id": "rbwCOaUi-efe"
      },
      "source": [
        "Aplicación Web accesible vía en modo de REST API. Mediante llamadas HTTP al REST API podemos establecer uan comunicación con el uso del módulo de Flask. \n",
        "\n",
        "Llamadas a realizar vía REST API:\n",
        "* Minación de bloques: **mine_block()**\n",
        "* Obtención de la Blockchain: **get_chain()**\n",
        "* Comprobar estado de la Blockchain: **is_valid()**"
      ]
    },
    {
      "cell_type": "code",
      "execution_count": null,
      "metadata": {
        "id": "ldcYRB3q7Nj7"
      },
      "outputs": [],
      "source": [
        "# Crear una aplicación web\n",
        "# Ejecución de la app con Notebook\n",
        "app = Flask(__name__)\n",
        "run_with_ngrok(app) # Descomentar para usar la app en internet, comentado = solo uso local\n",
        "\n",
        "# Si se obtiene un error 500, actualizar flask y ejecutar la siguiente línea\n",
        "app.config['JSONIFY_PRETTYPRINT_REGULAR'] = False\n",
        "\n",
        "# Creación de la Blockchain\n",
        "blockchain = Blockchain()\n",
        "\n",
        "## -------------------------------- MINE BLOCK ---------------------------------\n",
        "\n",
        "@app.route('/mine_block', methods=['GET'])\n",
        "def mine_block():\n",
        "  \"\"\" Minado de un nuevo bloque \"\"\"\n",
        "\n",
        "  previous_block  = blockchain.get_previous_block()\n",
        "  previous_proof  = previous_block['proof']\n",
        "  proof           = blockchain.proof_of_work(previous_proof)\n",
        "  previous_hash   = blockchain.hash(previous_block)\n",
        "  block           = blockchain.create_block(proof, previous_hash)\n",
        "  response = {'message'       : '¡Enhorabuena, has minado un nuevo bloque!', \n",
        "              'index'         : block['index'],\n",
        "              'timestamp'     : block['timestamp'],\n",
        "              'proof'         : block['proof'],\n",
        "              'previous_hash' : block['previous_hash']}\n",
        "  return jsonify(response), 200\n",
        "\n",
        "## -------------------------------- GET CHAIN ----------------------------------\n",
        "\n",
        "@app.route('/get_chain', methods=['GET'])\n",
        "def get_chain():\n",
        "  \"\"\" Obtención de la Blockchain \"\"\"\n",
        "\n",
        "  response = {'chain'   : blockchain.chain, \n",
        "              'length'  : len(blockchain.chain)}\n",
        "  return jsonify(response), 200\n",
        "\n",
        "## -------------------------------- GET BLOCK ----------------------------------\n",
        "\n",
        "@app.route('/get_block', methods=['GET'])\n",
        "def get_block():\n",
        "  \"\"\" Obtención de un bloque por su index \"\"\"\n",
        "  \n",
        "  index = request.args.get('index')\n",
        "  block = blockchain.get_block_by_index(index)\n",
        "  response = {'block'   : block}\n",
        "\n",
        "  return jsonify(response), 200\n",
        "\n",
        "\n",
        "## -------------------------------- IS VALID -----------------------------------\n",
        "\n",
        "@app.route('/is_valid', methods = ['GET'])\n",
        "def is_valid():\n",
        "  \"\"\" Comprobación si la Blockchain es válida \"\"\"\n",
        "\n",
        "  is_valid = blockchain.is_chain_valid(blockchain.chain)\n",
        "  if is_valid:\n",
        "      response = {'message' : '¡La cadena de bloques es válida!'}\n",
        "  else:\n",
        "      response = {'message' : '¡La cadena de bloques NO es válida!'}\n",
        "  return jsonify(response), 200  "
      ]
    },
    {
      "cell_type": "code",
      "execution_count": null,
      "metadata": {
        "colab": {
          "background_save": true,
          "base_uri": "https://localhost:8080/"
        },
        "id": "wGcC8nr5bOKa",
        "outputId": "cfd88827-487e-4115-8883-43d27c8b039d"
      },
      "outputs": [],
      "source": [
        "# Ejecución de la app con Google Colab\n",
        "app.run()\n",
        "\n",
        "# Ejecución externa a Google colab\n",
        "# app.run(host = '0.0.0.0', port = 5000)"
      ]
    }
  ],
  "metadata": {
    "colab": {
      "collapsed_sections": [],
      "name": "blockchain.ipynb",
      "provenance": []
    },
    "kernelspec": {
      "display_name": "Python 3.9.2 64-bit",
      "language": "python",
      "name": "python3"
    },
    "language_info": {
      "codemirror_mode": {
        "name": "ipython",
        "version": 3
      },
      "file_extension": ".py",
      "mimetype": "text/x-python",
      "name": "python",
      "nbconvert_exporter": "python",
      "pygments_lexer": "ipython3",
      "version": "3.9.2"
    },
    "vscode": {
      "interpreter": {
        "hash": "aee8b7b246df8f9039afb4144a1f6fd8d2ca17a180786b69acc140d282b71a49"
      }
    }
  },
  "nbformat": 4,
  "nbformat_minor": 0
}
